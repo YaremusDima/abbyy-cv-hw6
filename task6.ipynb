{
 "cells": [
  {
   "cell_type": "code",
   "execution_count": 8,
   "metadata": {},
   "outputs": [],
   "source": [
    "import cv2\n",
    "import numpy as np\n",
    "import os\n",
    "import matplotlib.pyplot as plt\n",
    "import time"
   ]
  },
  {
   "attachments": {},
   "cell_type": "markdown",
   "metadata": {},
   "source": [
    "## Подход\n",
    "\n",
    "В qr-кодах существуют специальные паттерны для детекции. Они называются finder pattern, и представляют из себя кватраты, вложенные друг в друга с соотношением сторон: 3/5/7. Будем выделять фильтрами все границы на изображении, и если встретим контура, вложенные друг в друга с соотношением площадей 9/25/49, это и будет искомый finder-pattern qr-кода\n",
    "\n",
    "![](finder-pattern.jpg \"\")"
   ]
  },
  {
   "attachments": {},
   "cell_type": "markdown",
   "metadata": {},
   "source": [
    "## Реализация"
   ]
  },
  {
   "cell_type": "code",
   "execution_count": 33,
   "metadata": {},
   "outputs": [],
   "source": [
    "SIGMA = 7\n",
    "THRESH_BLOCK_SIZE = 11\n",
    "THRESH_C = 2\n",
    "ERODE_ITERATIONS = 1\n",
    "CANNY_THRESHHOLD_1 = 80\n",
    "CANNY_THRESHHOLD_2 = 110\n",
    "AREA_1 = 49\n",
    "AREA_2 = 25\n",
    "AREA_3 = 9"
   ]
  },
  {
   "cell_type": "code",
   "execution_count": 42,
   "metadata": {},
   "outputs": [],
   "source": [
    "def image_preprocess(image):\n",
    "    # черно-белый фильтр\n",
    "    image = cv2.cvtColor(image, cv2.COLOR_BGR2GRAY)\n",
    "    image = cv2.GaussianBlur(image, (SIGMA, SIGMA), 0)\n",
    "    image = cv2.adaptiveThreshold(image, 255, cv2.ADAPTIVE_THRESH_GAUSSIAN_C, cv2.THRESH_BINARY, THRESH_BLOCK_SIZE, THRESH_C)\n",
    "    image = cv2.morphologyEx(image, cv2.MORPH_CLOSE, np.ones((4, 4), np.uint8))\n",
    "    image = cv2.erode(image, np.ones((3, 3)), iterations=ERODE_ITERATIONS)\n",
    "    return image\n",
    "\n",
    "def get_edges(image):\n",
    "    # выделение границ\n",
    "    edges = cv2.Canny(image, CANNY_THRESHHOLD_1, CANNY_THRESHHOLD_2)\n",
    "    edges = (edges != 0).astype(np.uint8)\n",
    "    edges = cv2.dilate(edges, np.ones((3, 3)))\n",
    "    return edges\n",
    "\n",
    "def prop_correct(areas, threshold_rate):\n",
    "    # проверка площадей на правильное отношение\n",
    "    outer_black_area = areas[0]\n",
    "    for i, inner_white_area in enumerate(areas[1:-1]):\n",
    "        for inner_black_area in areas[i+1:]:\n",
    "            is_ratio_1 = np.abs(outer_black_area / inner_white_area - AREA_1 / AREA_2) < (AREA_1 / AREA_2) * threshold_rate\n",
    "            is_ratio_2 = np.abs(outer_black_area / inner_black_area - AREA_1 / AREA_3) < (AREA_1 / AREA_3) * threshold_rate\n",
    "            if is_ratio_1 and is_ratio_2:\n",
    "                    return True\n",
    "    return False\n",
    "\n",
    "def get_pattern_contours(contours, hierarchy):\n",
    "    # поиск подходящих контуров\n",
    "    all_countours = set()\n",
    "    pattern_contours = []\n",
    "    for i, contour in enumerate(contours):\n",
    "        if i in all_countours:\n",
    "            continue\n",
    "        areas = []\n",
    "        processed_contours = set()\n",
    "        j = i\n",
    "        while hierarchy[j][2] != -1:\n",
    "            areas.append(cv2.contourArea(contours[j]))\n",
    "            processed_contours.add(j)\n",
    "            j = hierarchy[j][2]\n",
    "        if 3 < len(areas) < 7:\n",
    "            if prop_correct(areas, 0.3):\n",
    "                pattern_contours.append(contour)\n",
    "                all_countours.union(processed_contours)\n",
    "    return pattern_contours\n",
    "\n",
    "def find_pattern(input_dir, output_dir):\n",
    "    for image in os.listdir(input_dir):\n",
    "        img = cv2.imread(os.path.join(input_dir, image))\n",
    "        contours, hierarchy = cv2.findContours(get_edges(image_preprocess(img)), cv2.RETR_TREE, cv2.CHAIN_APPROX_SIMPLE)\n",
    "        pattern_contours = get_pattern_contours(contours, hierarchy[0])\n",
    "        cv2.drawContours(img, pattern_contours, -1, (0, 0, 255), 6)\n",
    "        cv2.imwrite(os.path.join(output_dir, image), img)"
   ]
  },
  {
   "cell_type": "code",
   "execution_count": 43,
   "metadata": {},
   "outputs": [],
   "source": [
    "find_pattern('TestSet1', 'Result1')"
   ]
  },
  {
   "cell_type": "code",
   "execution_count": 44,
   "metadata": {},
   "outputs": [],
   "source": [
    "find_pattern('TestSet2', 'Result2')"
   ]
  },
  {
   "cell_type": "code",
   "execution_count": 48,
   "metadata": {},
   "outputs": [
    {
     "name": "stdout",
     "output_type": "stream",
     "text": [
      "Всего времени на обработку TestSet1: 9.50 секунд, время на одну картинку: 0.20 секунд\n"
     ]
    }
   ],
   "source": [
    "input_dir = 'TestSet1'\n",
    "output_dir = 'Result1'\n",
    "\n",
    "start = time.time()\n",
    "find_pattern(input_dir, output_dir)\n",
    "end = time.time()\n",
    "\n",
    "print(f\"Всего времени на обработку {input_dir}: {end - start:.2f} секунд, время на одну картинку: {(end - start)/len(os.listdir(input_dir)):.2f} секунд\")"
   ]
  },
  {
   "cell_type": "code",
   "execution_count": 49,
   "metadata": {},
   "outputs": [
    {
     "name": "stdout",
     "output_type": "stream",
     "text": [
      "Всего времени на обработку TestSet2: 10.32 секунд, время на одну картинку: 0.22 секунд\n"
     ]
    }
   ],
   "source": [
    "input_dir = 'TestSet2'\n",
    "output_dir = 'Result2'\n",
    "\n",
    "start = time.time()\n",
    "find_pattern(input_dir, output_dir)\n",
    "end = time.time()\n",
    "\n",
    "print(f\"Всего времени на обработку {input_dir}: {end - start:.2f} секунд, время на одну картинку: {(end - start)/len(os.listdir(input_dir)):.2f} секунд\")"
   ]
  },
  {
   "attachments": {},
   "cell_type": "markdown",
   "metadata": {},
   "source": [
    "## Результаты"
   ]
  },
  {
   "attachments": {},
   "cell_type": "markdown",
   "metadata": {},
   "source": [
    "Если считать, что выделение внешнего края внешнего квадрата - это ошибка\n",
    "\n",
    "то есть, если алгоритм выделил нужный квадрат (один из трех finder pattern-ов) по врешнему контуру - это true positive, если он выделил по внутреннему контуру, это false positive, а если же он не выделил нужный квадрат, то это false negative\n",
    "\n",
    "TestSet1:\n",
    "- Precision: 0.71 \n",
    "- Recall: 0.87\n",
    "    \n",
    "TestSet2: \n",
    "- Precision: 0.73\n",
    "- Recall: 0.80\n",
    "\n",
    "Если же принять, что выделение внутреннего квадрата это верное выделение (допустим, мы и там, и там сможем верно обнаружить центр этих квадратов), то результаты такие:\n",
    "\n",
    "TestSet1:\n",
    "- Precision: 1.00\n",
    "- Recall: 0.87\n",
    "    \n",
    "TestSet2: \n",
    "- Precision: 1.00\n",
    "- Recall: 0.83"
   ]
  }
 ],
 "metadata": {
  "kernelspec": {
   "display_name": "main_venv",
   "language": "python",
   "name": "python3"
  },
  "language_info": {
   "codemirror_mode": {
    "name": "ipython",
    "version": 3
   },
   "file_extension": ".py",
   "mimetype": "text/x-python",
   "name": "python",
   "nbconvert_exporter": "python",
   "pygments_lexer": "ipython3",
   "version": "3.10.11"
  },
  "orig_nbformat": 4
 },
 "nbformat": 4,
 "nbformat_minor": 2
}
